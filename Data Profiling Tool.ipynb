{
 "cells": [
  {
   "cell_type": "code",
   "execution_count": null,
   "id": "7c5e11af",
   "metadata": {
    "scrolled": true
   },
   "outputs": [],
   "source": [
    "import pandas as pd\n",
    "import pandas_profiling\n",
    "\n",
    "# Sample data for demonstration\n",
    "data = {\n",
    "    'Name': ['Alice', 'Bob', 'Charlie', 'David', 'Eva'],\n",
    "    'Age': [24, 27, 22, 32, 29],\n",
    "    'City': ['New York', 'Los Angeles', 'Chicago', 'Houston', 'Phoenix'],\n",
    "    'Salary': [70000, 80000, 65000, 90000, 75000]\n",
    "}\n",
    "\n",
    "# Create a DataFrame\n",
    "df = pd.DataFrame(data)\n",
    "\n",
    "# Generate a profiling report\n",
    "profile = df.profile_report(title=\"Data Profiling Report\")\n",
    "\n",
    "# Save the report as an HTML file\n",
    "profile.to_file(\"data_profiling_report.html\")\n",
    "\n",
    "print(\"Data profiling report has been generated and saved as data_profiling_report.html.\")"
   ]
  },
  {
   "cell_type": "code",
   "execution_count": null,
   "id": "714601a5",
   "metadata": {},
   "outputs": [],
   "source": [
    "pip install pydantic-settings"
   ]
  },
  {
   "cell_type": "code",
   "execution_count": null,
   "id": "275962bf",
   "metadata": {},
   "outputs": [],
   "source": [
    "from pydantic_settings import BaseSettings"
   ]
  },
  {
   "cell_type": "code",
   "execution_count": null,
   "id": "cfaff8ce",
   "metadata": {},
   "outputs": [],
   "source": [
    "import pandas as pd\n",
    "import pandas_profiling\n",
    "from pydantic_settings import BaseSettings\n",
    "\n",
    "# Sample data for demonstration\n",
    "data = {\n",
    "    'Name': ['Alice', 'Bob', 'Charlie', 'David', 'Eva'],\n",
    "    'Age': [24, 27, 22, 32, 29],\n",
    "    'City': ['New York', 'Los Angeles', 'Chicago', 'Houston', 'Phoenix'],\n",
    "    'Salary': [70000, 80000, 65000, 90000, 75000]\n",
    "}\n",
    "\n",
    "# Create a DataFrame\n",
    "df = pd.DataFrame(data)\n",
    "\n",
    "# Generate a profiling report\n",
    "profile = df.profile_report(title=\"Data Profiling Report\")\n",
    "\n",
    "# Save the report as an HTML file\n",
    "profile.to_file(\"data_profiling_report.html\")\n",
    "\n",
    "print(\"Data profiling report has been generated and saved as data_profiling_report.html.\")"
   ]
  },
  {
   "cell_type": "code",
   "execution_count": null,
   "id": "50bbbc8d",
   "metadata": {},
   "outputs": [],
   "source": [
    "pip install --upgrade pandas-profiling pydantic pydantic-settings"
   ]
  },
  {
   "cell_type": "code",
   "execution_count": null,
   "id": "fbac1bc8",
   "metadata": {},
   "outputs": [],
   "source": [
    "pip install pydantic==1.10.11\n"
   ]
  },
  {
   "cell_type": "code",
   "execution_count": null,
   "id": "9269abf8",
   "metadata": {},
   "outputs": [],
   "source": [
    "import pandas as pd\n",
    "import pandas_profiling\n",
    "\n",
    "# Sample data for demonstration\n",
    "data = {\n",
    "    'Name': ['Alice', 'Bob', 'Charlie', 'David', 'Eva'],\n",
    "    'Age': [24, 27, 22, 32, 29],\n",
    "    'City': ['New York', 'Los Angeles', 'Chicago', 'Houston', 'Phoenix'],\n",
    "    'Salary': [70000, 80000, 65000, 90000, 75000]\n",
    "}\n",
    "\n",
    "# Create a DataFrame\n",
    "df = pd.DataFrame(data)\n",
    "\n",
    "# Generate a profiling report\n",
    "profile = df.profile_report(title=\"Data Profiling Report\")\n",
    "\n",
    "# Save the report as an HTML file\n",
    "profile.to_file(\"data_profiling_report.html\")\n",
    "\n",
    "print(\"Data profiling report has been generated and saved as data_profiling_report.html.\")"
   ]
  },
  {
   "cell_type": "code",
   "execution_count": null,
   "id": "958ecab1",
   "metadata": {},
   "outputs": [],
   "source": [
    "pip uninstall pandas-profiling ydata-profiling pydantic pydantic-settings"
   ]
  },
  {
   "cell_type": "code",
   "execution_count": null,
   "id": "1e5c07e4",
   "metadata": {},
   "outputs": [],
   "source": [
    "pip install ydata-profiling pydantic pydantic-settings\n"
   ]
  },
  {
   "cell_type": "code",
   "execution_count": null,
   "id": "b4b20aed",
   "metadata": {},
   "outputs": [],
   "source": [
    "import pandas as pd\n",
    "from ydata_profiling import ProfileReport\n",
    "\n",
    "# Sample data for demonstration\n",
    "data = {\n",
    "    'Name': ['Alice', 'Bob', 'Charlie', 'David', 'Eva'],\n",
    "    'Age': [24, 27, 22, 32, 29],\n",
    "    'City': ['New York', 'Los Angeles', 'Chicago', 'Houston', 'Phoenix'],\n",
    "    'Salary': [70000, 80000, 65000, 90000, 75000]\n",
    "}\n",
    "\n",
    "# Create a DataFrame\n",
    "df = pd.DataFrame(data)\n",
    "\n",
    "# Generate a profiling report\n",
    "profile = ProfileReport(df, title=\"Data Profiling Report\")\n",
    "\n",
    "# Save the report as an HTML file\n",
    "profile.to_file(\"data_profiling_report.html\")\n",
    "\n",
    "print(\"Data profiling report has been generated and saved as data_profiling_report.html.\")"
   ]
  },
  {
   "cell_type": "code",
   "execution_count": null,
   "id": "4cb59d94",
   "metadata": {},
   "outputs": [],
   "source": [
    "pip install numba==0.58.0"
   ]
  },
  {
   "cell_type": "code",
   "execution_count": null,
   "id": "0b6be39e",
   "metadata": {},
   "outputs": [],
   "source": [
    "python -m venv myenv"
   ]
  },
  {
   "cell_type": "code",
   "execution_count": 1,
   "id": "51f86145",
   "metadata": {},
   "outputs": [
    {
     "ename": "ImportError",
     "evalue": "Numba requires at least version 0.43.0 of llvmlite.\nInstalled version is 0.41.1.\nPlease update llvmlite.",
     "output_type": "error",
     "traceback": [
      "\u001b[1;31m---------------------------------------------------------------------------\u001b[0m",
      "\u001b[1;31mImportError\u001b[0m                               Traceback (most recent call last)",
      "Input \u001b[1;32mIn [1]\u001b[0m, in \u001b[0;36m<cell line: 2>\u001b[1;34m()\u001b[0m\n\u001b[0;32m      1\u001b[0m \u001b[38;5;28;01mimport\u001b[39;00m \u001b[38;5;21;01mpandas\u001b[39;00m \u001b[38;5;28;01mas\u001b[39;00m \u001b[38;5;21;01mpd\u001b[39;00m\n\u001b[1;32m----> 2\u001b[0m \u001b[38;5;28;01mfrom\u001b[39;00m \u001b[38;5;21;01mydata_profiling\u001b[39;00m \u001b[38;5;28;01mimport\u001b[39;00m ProfileReport\n\u001b[0;32m      4\u001b[0m \u001b[38;5;66;03m# Sample data for demonstration\u001b[39;00m\n\u001b[0;32m      5\u001b[0m data \u001b[38;5;241m=\u001b[39m {\n\u001b[0;32m      6\u001b[0m     \u001b[38;5;124m'\u001b[39m\u001b[38;5;124mName\u001b[39m\u001b[38;5;124m'\u001b[39m: [\u001b[38;5;124m'\u001b[39m\u001b[38;5;124mAlice\u001b[39m\u001b[38;5;124m'\u001b[39m, \u001b[38;5;124m'\u001b[39m\u001b[38;5;124mBob\u001b[39m\u001b[38;5;124m'\u001b[39m, \u001b[38;5;124m'\u001b[39m\u001b[38;5;124mCharlie\u001b[39m\u001b[38;5;124m'\u001b[39m, \u001b[38;5;124m'\u001b[39m\u001b[38;5;124mDavid\u001b[39m\u001b[38;5;124m'\u001b[39m, \u001b[38;5;124m'\u001b[39m\u001b[38;5;124mEva\u001b[39m\u001b[38;5;124m'\u001b[39m],\n\u001b[0;32m      7\u001b[0m     \u001b[38;5;124m'\u001b[39m\u001b[38;5;124mAge\u001b[39m\u001b[38;5;124m'\u001b[39m: [\u001b[38;5;241m24\u001b[39m, \u001b[38;5;241m27\u001b[39m, \u001b[38;5;241m22\u001b[39m, \u001b[38;5;241m32\u001b[39m, \u001b[38;5;241m29\u001b[39m],\n\u001b[0;32m      8\u001b[0m     \u001b[38;5;124m'\u001b[39m\u001b[38;5;124mCity\u001b[39m\u001b[38;5;124m'\u001b[39m: [\u001b[38;5;124m'\u001b[39m\u001b[38;5;124mNew York\u001b[39m\u001b[38;5;124m'\u001b[39m, \u001b[38;5;124m'\u001b[39m\u001b[38;5;124mLos Angeles\u001b[39m\u001b[38;5;124m'\u001b[39m, \u001b[38;5;124m'\u001b[39m\u001b[38;5;124mChicago\u001b[39m\u001b[38;5;124m'\u001b[39m, \u001b[38;5;124m'\u001b[39m\u001b[38;5;124mHouston\u001b[39m\u001b[38;5;124m'\u001b[39m, \u001b[38;5;124m'\u001b[39m\u001b[38;5;124mPhoenix\u001b[39m\u001b[38;5;124m'\u001b[39m],\n\u001b[0;32m      9\u001b[0m     \u001b[38;5;124m'\u001b[39m\u001b[38;5;124mSalary\u001b[39m\u001b[38;5;124m'\u001b[39m: [\u001b[38;5;241m70000\u001b[39m, \u001b[38;5;241m80000\u001b[39m, \u001b[38;5;241m65000\u001b[39m, \u001b[38;5;241m90000\u001b[39m, \u001b[38;5;241m75000\u001b[39m]\n\u001b[0;32m     10\u001b[0m }\n",
      "File \u001b[1;32m~\\AppData\\Roaming\\Python\\Python39\\site-packages\\ydata_profiling\\__init__.py:8\u001b[0m, in \u001b[0;36m<module>\u001b[1;34m\u001b[0m\n\u001b[0;32m      6\u001b[0m \u001b[38;5;66;03m# ignore numba warnings\u001b[39;00m\n\u001b[0;32m      7\u001b[0m \u001b[38;5;28;01mimport\u001b[39;00m \u001b[38;5;21;01mwarnings\u001b[39;00m  \u001b[38;5;66;03m# isort:skip # noqa\u001b[39;00m\n\u001b[1;32m----> 8\u001b[0m \u001b[38;5;28;01mfrom\u001b[39;00m \u001b[38;5;21;01mnumba\u001b[39;00m\u001b[38;5;21;01m.\u001b[39;00m\u001b[38;5;21;01mcore\u001b[39;00m\u001b[38;5;21;01m.\u001b[39;00m\u001b[38;5;21;01merrors\u001b[39;00m \u001b[38;5;28;01mimport\u001b[39;00m NumbaDeprecationWarning  \u001b[38;5;66;03m# isort:skip # noqa\u001b[39;00m\n\u001b[0;32m     10\u001b[0m warnings\u001b[38;5;241m.\u001b[39msimplefilter(\u001b[38;5;124m\"\u001b[39m\u001b[38;5;124mignore\u001b[39m\u001b[38;5;124m\"\u001b[39m, category\u001b[38;5;241m=\u001b[39mNumbaDeprecationWarning)\n\u001b[0;32m     12\u001b[0m \u001b[38;5;28;01mimport\u001b[39;00m \u001b[38;5;21;01mimportlib\u001b[39;00m\u001b[38;5;21;01m.\u001b[39;00m\u001b[38;5;21;01mutil\u001b[39;00m  \u001b[38;5;66;03m# isort:skip # noqa\u001b[39;00m\n",
      "File \u001b[1;32m~\\AppData\\Roaming\\Python\\Python39\\site-packages\\numba\\__init__.py:235\u001b[0m, in \u001b[0;36m<module>\u001b[1;34m\u001b[0m\n\u001b[0;32m    232\u001b[0m                 warnings\u001b[38;5;241m.\u001b[39mwarn(\u001b[38;5;124m\"\u001b[39m\u001b[38;5;124mSVML was not found/could not be loaded.\u001b[39m\u001b[38;5;124m\"\u001b[39m)\n\u001b[0;32m    233\u001b[0m     \u001b[38;5;28;01mreturn\u001b[39;00m \u001b[38;5;28;01mFalse\u001b[39;00m\n\u001b[1;32m--> 235\u001b[0m \u001b[43m_ensure_llvm\u001b[49m\u001b[43m(\u001b[49m\u001b[43m)\u001b[49m\n\u001b[0;32m    237\u001b[0m \u001b[38;5;66;03m# we know llvmlite is working as the above tests passed, import it now as SVML\u001b[39;00m\n\u001b[0;32m    238\u001b[0m \u001b[38;5;66;03m# needs to mutate runtime options (sets the `-vector-library`).\u001b[39;00m\n\u001b[0;32m    239\u001b[0m \u001b[38;5;28;01mimport\u001b[39;00m \u001b[38;5;21;01mllvmlite\u001b[39;00m\n",
      "File \u001b[1;32m~\\AppData\\Roaming\\Python\\Python39\\site-packages\\numba\\__init__.py:171\u001b[0m, in \u001b[0;36m_ensure_llvm\u001b[1;34m()\u001b[0m\n\u001b[0;32m    166\u001b[0m     \u001b[38;5;28;01mif\u001b[39;00m ver \u001b[38;5;241m<\u001b[39m _min_llvmlite_version:\n\u001b[0;32m    167\u001b[0m         msg \u001b[38;5;241m=\u001b[39m (\u001b[38;5;124m\"\u001b[39m\u001b[38;5;124mNumba requires at least version \u001b[39m\u001b[38;5;132;01m%d\u001b[39;00m\u001b[38;5;124m.\u001b[39m\u001b[38;5;132;01m%d\u001b[39;00m\u001b[38;5;124m.\u001b[39m\u001b[38;5;132;01m%d\u001b[39;00m\u001b[38;5;124m of llvmlite.\u001b[39m\u001b[38;5;130;01m\\n\u001b[39;00m\u001b[38;5;124m\"\u001b[39m\n\u001b[0;32m    168\u001b[0m                \u001b[38;5;124m\"\u001b[39m\u001b[38;5;124mInstalled version is \u001b[39m\u001b[38;5;132;01m%s\u001b[39;00m\u001b[38;5;124m.\u001b[39m\u001b[38;5;130;01m\\n\u001b[39;00m\u001b[38;5;124m\"\u001b[39m\n\u001b[0;32m    169\u001b[0m                \u001b[38;5;124m\"\u001b[39m\u001b[38;5;124mPlease update llvmlite.\u001b[39m\u001b[38;5;124m\"\u001b[39m \u001b[38;5;241m%\u001b[39m\n\u001b[0;32m    170\u001b[0m                (_min_llvmlite_version \u001b[38;5;241m+\u001b[39m (llvmlite\u001b[38;5;241m.\u001b[39m__version__,)))\n\u001b[1;32m--> 171\u001b[0m         \u001b[38;5;28;01mraise\u001b[39;00m \u001b[38;5;167;01mImportError\u001b[39;00m(msg)\n\u001b[0;32m    172\u001b[0m \u001b[38;5;28;01melse\u001b[39;00m:\n\u001b[0;32m    173\u001b[0m     \u001b[38;5;66;03m# Not matching?\u001b[39;00m\n\u001b[0;32m    174\u001b[0m     warnings\u001b[38;5;241m.\u001b[39mwarn(\u001b[38;5;124m\"\u001b[39m\u001b[38;5;124mllvmlite version format not recognized!\u001b[39m\u001b[38;5;124m\"\u001b[39m)\n",
      "\u001b[1;31mImportError\u001b[0m: Numba requires at least version 0.43.0 of llvmlite.\nInstalled version is 0.41.1.\nPlease update llvmlite."
     ]
    }
   ],
   "source": [
    "import pandas as pd\n",
    "from ydata_profiling import ProfileReport\n",
    "\n",
    "# Sample data for demonstration\n",
    "data = {\n",
    "    'Name': ['Alice', 'Bob', 'Charlie', 'David', 'Eva'],\n",
    "    'Age': [24, 27, 22, 32, 29],\n",
    "    'City': ['New York', 'Los Angeles', 'Chicago', 'Houston', 'Phoenix'],\n",
    "    'Salary': [70000, 80000, 65000, 90000, 75000]\n",
    "}\n",
    "\n",
    "# Create a DataFrame\n",
    "df = pd.DataFrame(data)\n",
    "\n",
    "# Generate a profiling report\n",
    "profile = ProfileReport(df, title=\"Data Profiling Report\")\n",
    "\n",
    "# Save the report as an HTML file\n",
    "profile.to_file(\"data_profiling_report.html\")\n",
    "\n",
    "print(\"Data profiling report has been generated and saved as data_profiling_report.html.\")"
   ]
  },
  {
   "cell_type": "code",
   "execution_count": 2,
   "id": "df10bc3d",
   "metadata": {},
   "outputs": [
    {
     "name": "stdout",
     "output_type": "stream",
     "text": [
      "Requirement already satisfied: llvmlite in c:\\users\\m.purathatt\\appdata\\roaming\\python\\python39\\site-packages (0.41.1)\n",
      "Collecting llvmlite\n",
      "  Using cached llvmlite-0.43.0-cp39-cp39-win_amd64.whl (28.1 MB)\n",
      "Installing collected packages: llvmlite\n",
      "  Attempting uninstall: llvmlite\n",
      "    Found existing installation: llvmlite 0.41.1\n",
      "    Uninstalling llvmlite-0.41.1:\n",
      "      Successfully uninstalled llvmlite-0.41.1\n",
      "Note: you may need to restart the kernel to use updated packages.\n"
     ]
    },
    {
     "name": "stderr",
     "output_type": "stream",
     "text": [
      "ERROR: Could not install packages due to an OSError: [WinError 5] Access is denied: 'C:\\\\Users\\\\m.purathatt\\\\AppData\\\\Roaming\\\\Python\\\\Python39\\\\site-packages\\\\~-vmlite\\\\binding\\\\llvmlite.dll'\n",
      "Check the permissions.\n",
      "\n"
     ]
    }
   ],
   "source": [
    "pip install --user --upgrade llvmlite"
   ]
  },
  {
   "cell_type": "code",
   "execution_count": 3,
   "id": "2b6783dc",
   "metadata": {},
   "outputs": [
    {
     "ename": "SyntaxError",
     "evalue": "invalid syntax (3402936975.py, line 1)",
     "output_type": "error",
     "traceback": [
      "\u001b[1;36m  Input \u001b[1;32mIn [3]\u001b[1;36m\u001b[0m\n\u001b[1;33m    python -c \"import llvmlite; print(llvmlite.__version__)\"\u001b[0m\n\u001b[1;37m              ^\u001b[0m\n\u001b[1;31mSyntaxError\u001b[0m\u001b[1;31m:\u001b[0m invalid syntax\n"
     ]
    }
   ],
   "source": [
    "python -c \"import llvmlite; print(llvmlite.__version__)\""
   ]
  },
  {
   "cell_type": "code",
   "execution_count": 4,
   "id": "4a16fbc7",
   "metadata": {},
   "outputs": [
    {
     "name": "stdout",
     "output_type": "stream",
     "text": [
      "Collecting sweetviz\n",
      "  Downloading sweetviz-2.3.1-py3-none-any.whl (15.1 MB)\n",
      "Requirement already satisfied: pandas!=1.0.0,!=1.0.1,!=1.0.2,>=0.25.3 in c:\\programdata\\anaconda3\\lib\\site-packages (from sweetviz) (1.4.2)\n",
      "Requirement already satisfied: numpy>=1.16.0 in c:\\users\\m.purathatt\\appdata\\roaming\\python\\python39\\site-packages (from sweetviz) (1.22.4)\n",
      "Requirement already satisfied: scipy>=1.3.2 in c:\\programdata\\anaconda3\\lib\\site-packages (from sweetviz) (1.7.3)\n",
      "Requirement already satisfied: jinja2>=2.11.1 in c:\\programdata\\anaconda3\\lib\\site-packages (from sweetviz) (2.11.3)\n",
      "Requirement already satisfied: matplotlib>=3.1.3 in c:\\programdata\\anaconda3\\lib\\site-packages (from sweetviz) (3.5.1)\n",
      "Collecting importlib-resources>=1.2.0\n",
      "  Downloading importlib_resources-6.4.5-py3-none-any.whl (36 kB)\n",
      "Requirement already satisfied: tqdm>=4.43.0 in c:\\programdata\\anaconda3\\lib\\site-packages (from sweetviz) (4.64.0)\n",
      "Requirement already satisfied: zipp>=3.1.0 in c:\\programdata\\anaconda3\\lib\\site-packages (from importlib-resources>=1.2.0->sweetviz) (3.7.0)\n",
      "Requirement already satisfied: MarkupSafe>=0.23 in c:\\programdata\\anaconda3\\lib\\site-packages (from jinja2>=2.11.1->sweetviz) (2.0.1)\n",
      "Requirement already satisfied: python-dateutil>=2.7 in c:\\programdata\\anaconda3\\lib\\site-packages (from matplotlib>=3.1.3->sweetviz) (2.8.2)\n",
      "Requirement already satisfied: pillow>=6.2.0 in c:\\users\\m.purathatt\\appdata\\roaming\\python\\python39\\site-packages (from matplotlib>=3.1.3->sweetviz) (10.2.0)\n",
      "Requirement already satisfied: kiwisolver>=1.0.1 in c:\\programdata\\anaconda3\\lib\\site-packages (from matplotlib>=3.1.3->sweetviz) (1.3.2)\n",
      "Requirement already satisfied: cycler>=0.10 in c:\\programdata\\anaconda3\\lib\\site-packages (from matplotlib>=3.1.3->sweetviz) (0.11.0)\n",
      "Requirement already satisfied: packaging>=20.0 in c:\\users\\m.purathatt\\appdata\\roaming\\python\\python39\\site-packages (from matplotlib>=3.1.3->sweetviz) (24.1)\n",
      "Requirement already satisfied: fonttools>=4.22.0 in c:\\programdata\\anaconda3\\lib\\site-packages (from matplotlib>=3.1.3->sweetviz) (4.25.0)\n",
      "Requirement already satisfied: pyparsing>=2.2.1 in c:\\programdata\\anaconda3\\lib\\site-packages (from matplotlib>=3.1.3->sweetviz) (3.0.4)\n",
      "Requirement already satisfied: pytz>=2020.1 in c:\\programdata\\anaconda3\\lib\\site-packages (from pandas!=1.0.0,!=1.0.1,!=1.0.2,>=0.25.3->sweetviz) (2021.3)\n",
      "Requirement already satisfied: six>=1.5 in c:\\programdata\\anaconda3\\lib\\site-packages (from python-dateutil>=2.7->matplotlib>=3.1.3->sweetviz) (1.16.0)\n",
      "Requirement already satisfied: colorama in c:\\programdata\\anaconda3\\lib\\site-packages (from tqdm>=4.43.0->sweetviz) (0.4.4)\n",
      "Installing collected packages: importlib-resources, sweetviz\n",
      "Successfully installed importlib-resources-6.4.5 sweetviz-2.3.1\n",
      "Note: you may need to restart the kernel to use updated packages.\n"
     ]
    }
   ],
   "source": [
    "pip install --user sweetviz"
   ]
  },
  {
   "cell_type": "code",
   "execution_count": 1,
   "id": "e60c6b8f",
   "metadata": {},
   "outputs": [
    {
     "data": {
      "application/vnd.jupyter.widget-view+json": {
       "model_id": "aaaf3d8fd7504fecb58074c3c1e8edaf",
       "version_major": 2,
       "version_minor": 0
      },
      "text/plain": [
       "                                             |                                                          | [  0…"
      ]
     },
     "metadata": {},
     "output_type": "display_data"
    },
    {
     "name": "stdout",
     "output_type": "stream",
     "text": [
      "Report sweetviz_report.html was generated! NOTEBOOK/COLAB USERS: the web browser MAY not pop up, regardless, the report IS saved in your notebook/colab files.\n",
      "Data profiling report has been generated and saved as sweetviz_report.html.\n"
     ]
    }
   ],
   "source": [
    "import pandas as pd\n",
    "import sweetviz as sv\n",
    "\n",
    "# Sample data for demonstration\n",
    "data = {\n",
    "    'Name': ['Alice', 'Bob', 'Charlie', 'David', 'Eva'],\n",
    "    'Age': [24, 27, 22, 32, 29],\n",
    "    'City': ['New York', 'Los Angeles', 'Chicago', 'Houston', 'Phoenix'],\n",
    "    'Salary': [70000, 80000, 65000, 90000, 75000]\n",
    "}\n",
    "\n",
    "# Create a DataFrame\n",
    "df = pd.DataFrame(data)\n",
    "\n",
    "# Generate a profiling report\n",
    "report = sv.analyze(df)\n",
    "\n",
    "# Save the report as an HTML file\n",
    "report.show_html(\"sweetviz_report.html\")\n",
    "\n",
    "print(\"Data profiling report has been generated and saved as sweetviz_report.html.\")"
   ]
  },
  {
   "cell_type": "code",
   "execution_count": null,
   "id": "4f0ac121",
   "metadata": {},
   "outputs": [],
   "source": []
  }
 ],
 "metadata": {
  "kernelspec": {
   "display_name": "Python 3 (ipykernel)",
   "language": "python",
   "name": "python3"
  },
  "language_info": {
   "codemirror_mode": {
    "name": "ipython",
    "version": 3
   },
   "file_extension": ".py",
   "mimetype": "text/x-python",
   "name": "python",
   "nbconvert_exporter": "python",
   "pygments_lexer": "ipython3",
   "version": "3.9.12"
  }
 },
 "nbformat": 4,
 "nbformat_minor": 5
}
